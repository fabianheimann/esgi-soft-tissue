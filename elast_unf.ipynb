{
 "cells": [
  {
   "cell_type": "code",
   "execution_count": 13,
   "id": "99c7a37f",
   "metadata": {},
   "outputs": [
    {
     "name": "stdout",
     "output_type": "stream",
     "text": [
      "(-0.0185939898388516, -0.2796245795227116)\n"
     ]
    }
   ],
   "source": [
    "import netgen.geom2d as geom2d\n",
    "from ngsolve import *\n",
    "from ngsolve.webgui import Draw\n",
    "from xfem import *\n",
    "from xfem.lsetcurv import *\n",
    "\n",
    "geo = geom2d.SplineGeometry()\n",
    "pnums = [geo.AddPoint (x,y,maxh=0.01) for x,y in [(0,0), (1,0), (1,0.1), (0,0.1)] ]\n",
    "for p1,p2,bc in [(0,1,\"bot\"), (1,2,\"right\"), (2,3,\"top\"), (3,0,\"left\")]:\n",
    "     geo.Append([\"line\", pnums[p1], pnums[p2]], bc=bc)\n",
    "mesh = Mesh(geo.GenerateMesh(maxh=0.02))\n",
    "\n",
    "levelset = 0.04 - sqrt((x-0.5)**2 + (y-0.05)**2)\n",
    "lsetmeshadap = LevelSetMeshAdaptation(mesh, order=2, threshold=0.1,\n",
    "                                    discontinuous_qn=True)\n",
    "deformation = lsetmeshadap.CalcDeformation(levelset)\n",
    "lsetp1 = lsetmeshadap.lset_p1\n",
    "\n",
    "#Draw(lsetp1, mesh, \"lsetp1\")\n",
    "\n",
    "ci = CutInfo(mesh, lsetp1)\n",
    "hasneg = ci.GetElementsOfType(HASNEG)\n",
    "\n",
    "E, nu = 210, 0.2\n",
    "mu  = E / 2 / (1+nu)\n",
    "lam = E * nu / ((1+nu)*(1-2*nu))\n",
    "\n",
    "def sigma(u):\n",
    "    return lam*Trace(Grad(u))*Id(2) + mu*(Grad(u) + (Grad(u)).trans)\n",
    "\n",
    "factor = Parameter(0)\n",
    "factor.Set(-0.4)\n",
    "force = CoefficientFunction( (0,factor) )\n",
    "\n",
    "fes = H1(mesh, order=4, dirichlet=\"left\", dim=mesh.dim)\n",
    "u = fes.TrialFunction()\n",
    "v = fes.TestFunction()\n",
    "\n",
    "#dx = dCut(lsetp1, NEG, definedonelements=hasneg, deformation=deformation)\n",
    "dx = dCut(lsetp1, NEG, definedonelements=hasneg) #, deformation=deformation)\n",
    "\n",
    "a = BilinearForm(fes, symmetric=True, check_unused=False)\n",
    "a += InnerProduct( sigma(u), Grad(v))*dx\n",
    "\n",
    "L = LinearForm(fes)\n",
    "L += force*v*dx\n",
    "\n",
    "u = GridFunction(fes)\n",
    "\n",
    "a.Assemble()\n",
    "L.Assemble()\n",
    "\n",
    "u.vec.data = a.mat.Inverse(fes.FreeDofs() & GetDofsOfElements(fes, hasneg))*L.vec\n",
    "\n",
    "#Draw(u, mesh, \"def\")\n",
    "#Draw (CF(1), mesh, \"C(u)\")\n",
    "\n",
    "scene = DrawDC(lsetmeshadap.lset_p1, CF(1), 0, mesh, \"1\", deformation=u)\n",
    "\n",
    "deformation_at_bottom_right = u(mesh(1,0))\n",
    "print(deformation_at_bottom_right)"
   ]
  },
  {
   "cell_type": "code",
   "execution_count": null,
   "id": "89a8c2f0",
   "metadata": {},
   "outputs": [],
   "source": []
  }
 ],
 "metadata": {
  "kernelspec": {
   "display_name": "Python 3 (ipykernel)",
   "language": "python",
   "name": "python3"
  },
  "language_info": {
   "codemirror_mode": {
    "name": "ipython",
    "version": 3
   },
   "file_extension": ".py",
   "mimetype": "text/x-python",
   "name": "python",
   "nbconvert_exporter": "python",
   "pygments_lexer": "ipython3",
   "version": "3.10.4"
  }
 },
 "nbformat": 4,
 "nbformat_minor": 5
}
